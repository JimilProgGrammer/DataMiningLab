{
 "cells": [
  {
   "cell_type": "code",
   "execution_count": 22,
   "metadata": {},
   "outputs": [],
   "source": [
    "# Imports section\n",
    "import numpy as np\n",
    "import random\n",
    "import math"
   ]
  },
  {
   "cell_type": "code",
   "execution_count": 23,
   "metadata": {},
   "outputs": [
    {
     "name": "stdout",
     "output_type": "stream",
     "text": [
      "Enter the value of k: \n",
      "3\n"
     ]
    }
   ],
   "source": [
    "# Input the number of clusters\n",
    "print(\"Enter the value of k: \")\n",
    "k = int(input())"
   ]
  },
  {
   "cell_type": "code",
   "execution_count": 24,
   "metadata": {},
   "outputs": [
    {
     "name": "stdout",
     "output_type": "stream",
     "text": [
      "[(96, 50), (62, 42), (6, 10), (13, 73), (29, 36), (87, 27), (63, 27), (99, 74), (54, 62), (71, 21), (73, 65), (70, 21), (84, 79), (70, 76), (60, 87)]\n"
     ]
    }
   ],
   "source": [
    "# Prepare random data\n",
    "arr1 = np.array(np.random.randint(100,size=15)).astype(np.int)\n",
    "arr2 = np.array(np.random.randint(100,size=15)).astype(np.int)\n",
    "data = list(zip(arr1, arr2))\n",
    "print(data)"
   ]
  },
  {
   "cell_type": "code",
   "execution_count": 25,
   "metadata": {},
   "outputs": [
    {
     "name": "stdout",
     "output_type": "stream",
     "text": [
      "[(54, 62), (84, 79), (96, 50)]\n"
     ]
    }
   ],
   "source": [
    "# Choose k random samples from data\n",
    "centroids = random.sample(set(list(data)),k=k)\n",
    "print(centroids)"
   ]
  },
  {
   "cell_type": "code",
   "execution_count": 26,
   "metadata": {},
   "outputs": [
    {
     "name": "stdout",
     "output_type": "stream",
     "text": [
      "Iteration  0 :\n",
      "Clustered dataset:  {(96, 50): [(96, 50), (87, 27), (71, 21), (70, 21)], (54, 62): [(62, 42), (6, 10), (13, 73), (29, 36), (63, 27), (54, 62)], (84, 79): [(99, 74), (73, 65), (84, 79), (70, 76), (60, 87)]}\n",
      "New Centroids:  [(37.83, 41.67), (77.2, 76.2), (81.0, 29.75)]\n",
      "\n",
      "\n",
      "Iteration  1 :\n",
      "Clustered dataset:  {(81.0, 29.75): [(96, 50), (62, 42), (87, 27), (63, 27), (71, 21), (70, 21)], (37.83, 41.67): [(6, 10), (13, 73), (29, 36), (54, 62)], (77.2, 76.2): [(99, 74), (73, 65), (84, 79), (70, 76), (60, 87)]}\n",
      "New Centroids:  [(25.5, 45.25), (77.2, 76.2), (74.83, 31.33)]\n",
      "\n",
      "\n",
      "Iteration  2 :\n",
      "Clustered dataset:  {(74.83, 31.33): [(96, 50), (62, 42), (87, 27), (63, 27), (71, 21), (70, 21)], (25.5, 45.25): [(6, 10), (13, 73), (29, 36)], (77.2, 76.2): [(99, 74), (54, 62), (73, 65), (84, 79), (70, 76), (60, 87)]}\n",
      "New Centroids:  [(16.0, 39.67), (73.33, 73.83), (74.83, 31.33)]\n",
      "\n",
      "\n",
      "Iteration  3 :\n",
      "Clustered dataset:  {(74.83, 31.33): [(96, 50), (62, 42), (87, 27), (63, 27), (71, 21), (70, 21)], (16.0, 39.67): [(6, 10), (13, 73), (29, 36)], (73.33, 73.83): [(99, 74), (54, 62), (73, 65), (84, 79), (70, 76), (60, 87)]}\n",
      "New Centroids:  [(16.0, 39.67), (73.33, 73.83), (74.83, 31.33)]\n",
      "\n",
      "\n",
      "Iteration  4 :\n",
      "Clustered dataset:  {(74.83, 31.33): [(96, 50), (62, 42), (87, 27), (63, 27), (71, 21), (70, 21)], (16.0, 39.67): [(6, 10), (13, 73), (29, 36)], (73.33, 73.83): [(99, 74), (54, 62), (73, 65), (84, 79), (70, 76), (60, 87)]}\n",
      "\n",
      "----- OUTPUT -----\n",
      "NO. OF CLUSTERS  :  3\n",
      "CLUSTER CENTROIDS:  dict_keys([(74.83, 31.33), (16.0, 39.67), (73.33, 73.83)])\n",
      "CLUSTERED DATASET: {(74.83, 31.33): [(62, 42), (63, 27), (70, 21), (71, 21), (87, 27), (96, 50)], (16.0, 39.67): [(6, 10), (13, 73), (29, 36)], (73.33, 73.83): [(54, 62), (60, 87), (70, 76), (73, 65), (84, 79), (99, 74)]}\n"
     ]
    }
   ],
   "source": [
    "# Below function checks if the clusters formed before and after the iteration\n",
    "# remained same.\n",
    "# If yes, terminate the loop.\n",
    "def check_clusters_same(cluster1: dict, cluster2: dict):\n",
    "    flag = True\n",
    "    if cluster1.keys() == cluster2.keys():\n",
    "        for key in cluster1.keys():\n",
    "            list1 = cluster1[key].sort()\n",
    "            list2 = cluster2[key].sort()\n",
    "            if not list1 == list2:\n",
    "                flag = False\n",
    "                break\n",
    "    else:\n",
    "        flag = False\n",
    "    return flag\n",
    "\n",
    "def euclidean_distance(x1,y1,x2,y2):\n",
    "    return round(math.sqrt(abs(x2-x1)**2 + abs(y2-y1)**2),2)\n",
    "\n",
    "result = {}\n",
    "prev_result = {}\n",
    "iteration = 0\n",
    "# Repeat forever until loop broken\n",
    "while(True):\n",
    "    print(\"Iteration \", iteration, \":\")\n",
    "    prev_result = result\n",
    "    result = {}\n",
    "    \n",
    "    # Repeat for all data points:\n",
    "    #    1. Calculate distance between each data point and the centroids\n",
    "    #    2. Find the centroid this data point is the closest to.\n",
    "    #    3. Prepare the clusters in a dictionary\n",
    "    for x in data:\n",
    "        x_dist = []\n",
    "        for center in centroids:\n",
    "            x_dist.append(euclidean_distance(x[0],x[1],center[0],center[1]))\n",
    "        x_dist = np.array(x_dist)\n",
    "        centroid_index = np.argmin(x_dist)\n",
    "        centroid = centroids[centroid_index]\n",
    "        if centroid in result:\n",
    "            result[centroid].append(x)\n",
    "        else:\n",
    "            result[centroid] = [x]\n",
    "            \n",
    "    print(\"Clustered dataset: \", result)\n",
    "    \n",
    "    # Check if the previous cluster and current cluster are same.\n",
    "    if check_clusters_same(prev_result, result):\n",
    "        break\n",
    "    \n",
    "    # Prepare the new centroids by calculating the mean of all items in that cluster\n",
    "    centers = list(centroids)\n",
    "    centroids.clear()\n",
    "    for center in centers:\n",
    "        points = result[center]\n",
    "        x = []\n",
    "        y = []\n",
    "        for data_tuple in points:\n",
    "            x.append(data_tuple[0])\n",
    "            y.append(data_tuple[1])\n",
    "        x_mean = round(np.mean(np.array(x)),2)\n",
    "        y_mean = round(np.mean(np.array(y)),2)\n",
    "        centroids.append((x_mean, y_mean))\n",
    "    print(\"New Centroids: \", centroids)\n",
    "    iteration = iteration + 1\n",
    "    print(\"\\n\")\n",
    "        \n",
    "print(\"\\n----- OUTPUT -----\")\n",
    "print(\"NO. OF CLUSTERS  : \", k)\n",
    "print(\"CLUSTER CENTROIDS: \", result.keys())\n",
    "print(\"CLUSTERED DATASET:\", result)"
   ]
  },
  {
   "cell_type": "code",
   "execution_count": null,
   "metadata": {},
   "outputs": [],
   "source": []
  }
 ],
 "metadata": {
  "kernelspec": {
   "display_name": "Python 3",
   "language": "python",
   "name": "python3"
  },
  "language_info": {
   "codemirror_mode": {
    "name": "ipython",
    "version": 3
   },
   "file_extension": ".py",
   "mimetype": "text/x-python",
   "name": "python",
   "nbconvert_exporter": "python",
   "pygments_lexer": "ipython3",
   "version": "3.6.6"
  }
 },
 "nbformat": 4,
 "nbformat_minor": 2
}
