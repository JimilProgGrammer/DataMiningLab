{
 "cells": [
  {
   "cell_type": "code",
   "execution_count": 95,
   "metadata": {},
   "outputs": [],
   "source": [
    "# Imports section\n",
    "from itertools import combinations"
   ]
  },
  {
   "cell_type": "code",
   "execution_count": 87,
   "metadata": {},
   "outputs": [
    {
     "name": "stdout",
     "output_type": "stream",
     "text": [
      "Enter the number of transactions: \n",
      "9\n",
      "Enter minimum support value: \n",
      "2\n"
     ]
    }
   ],
   "source": [
    "print(\"Enter the number of transactions: \")\n",
    "n = int(input())\n",
    "transactions = []\n",
    "print(\"Enter minimum support value: \")\n",
    "min_support = int(input())"
   ]
  },
  {
   "cell_type": "code",
   "execution_count": 88,
   "metadata": {},
   "outputs": [
    {
     "name": "stdout",
     "output_type": "stream",
     "text": [
      "Enter items for transaction: 1\n",
      "1 2 5\n",
      "Enter items for transaction: 2\n",
      "2 4\n",
      "Enter items for transaction: 3\n",
      "2 3\n",
      "Enter items for transaction: 4\n",
      "1 2 4\n",
      "Enter items for transaction: 5\n",
      "1 3\n",
      "Enter items for transaction: 6\n",
      "2 3\n",
      "Enter items for transaction: 7\n",
      "1 3\n",
      "Enter items for transaction: 8\n",
      "1 2 3 5\n",
      "Enter items for transaction: 9\n",
      "1 2 3\n"
     ]
    }
   ],
   "source": [
    "i = 0\n",
    "while i < n:\n",
    "    print(\"Enter items for transaction: \" + str(i+1))\n",
    "    items = input()\n",
    "    transactions.append(items.split(\" \"))\n",
    "    i = i+1\n",
    "i = 0"
   ]
  },
  {
   "cell_type": "code",
   "execution_count": 114,
   "metadata": {},
   "outputs": [
    {
     "name": "stdout",
     "output_type": "stream",
     "text": [
      "Candidate List: \n",
      "{'1': 6, '2': 7, '5': 2, '4': 2, '3': 6}\n"
     ]
    }
   ],
   "source": [
    "candidate_list = {}\n",
    "for items_list in transactions:\n",
    "    i = 0\n",
    "    for item in items_list:\n",
    "        if item in candidate_list.keys():\n",
    "            items_list_sub = items_list[0:i]\n",
    "            if item not in items_list_sub:\n",
    "                candidate_list[item] = candidate_list[item] + 1\n",
    "        else:\n",
    "            candidate_list[item] = 1\n",
    "        i = i+1\n",
    "\n",
    "print(\"Candidate List: \")\n",
    "print(candidate_list)"
   ]
  },
  {
   "cell_type": "code",
   "execution_count": 115,
   "metadata": {},
   "outputs": [
    {
     "name": "stdout",
     "output_type": "stream",
     "text": [
      "Candidate List After Elimination: \n",
      "{'1': 6, '2': 7, '5': 2, '4': 2, '3': 6}\n"
     ]
    }
   ],
   "source": [
    "candidate_list = {key:value for key,value in candidate_list.items() if value >= min_support}\n",
    "\n",
    "print(\"Candidate List After Elimination: \")\n",
    "print(candidate_list)"
   ]
  },
  {
   "cell_type": "code",
   "execution_count": 116,
   "metadata": {},
   "outputs": [
    {
     "name": "stdout",
     "output_type": "stream",
     "text": [
      "Item list at the end of iteration: \n",
      "{('1', '2'): 4, ('1', '5'): 2, ('1', '4'): 1, ('1', '3'): 4, ('2', '5'): 2, ('2', '4'): 2, ('2', '3'): 4, ('5', '3'): 1}\n",
      "Item list after elimination: \n",
      "{('1', '2'): 4, ('1', '5'): 2, ('1', '3'): 4, ('2', '5'): 2, ('2', '4'): 2, ('2', '3'): 4}\n",
      "-------------------------------------------------------------------------------\n",
      "Item list at the end of iteration: \n",
      "{('3', '2', '1'): 2, ('3', '2', '5'): 1, ('3', '1', '5'): 1, ('2', '1', '4'): 1, ('2', '1', '5'): 2}\n",
      "Item list after elimination: \n",
      "{('3', '2', '1'): 2, ('2', '1', '5'): 2}\n",
      "-------------------------------------------------------------------------------\n",
      "Item list at the end of iteration: \n",
      "{('2', '1', '5', '3'): 1}\n",
      "Item list after elimination: \n",
      "{}\n",
      "All items eliminated. BREAK.\n",
      "-------------------- FREQUENT ITEM SET --------------------\n",
      "{('3', '2', '1'): 2, ('2', '1', '5'): 2}\n"
     ]
    }
   ],
   "source": [
    "def eliminate(param_candidate_list):\n",
    "    param_candidate_list = {key:value for key,value in param_candidate_list.items() if value >= min_support}\n",
    "    return param_candidate_list\n",
    "\n",
    "flag = True\n",
    "new_candidate_list = {}\n",
    "prev_candidate_list = {}\n",
    "count = 2\n",
    "\n",
    "while True:\n",
    "    new_keys = []\n",
    "    prev_candidate_list = new_candidate_list.copy()\n",
    "    new_candidate_list = {}\n",
    "    new_keys = tuple(list(combinations(candidate_list, count)))\n",
    "    \n",
    "    for new_key in new_keys:\n",
    "        for items_list in transactions:\n",
    "            if set(new_key).issubset(set(items_list)) and new_key in new_candidate_list.keys():\n",
    "                new_candidate_list[new_key] = new_candidate_list[new_key] + 1\n",
    "            elif set(new_key).issubset(set(items_list)):\n",
    "                new_candidate_list[new_key] = 1\n",
    "    \n",
    "    print(\"Item list at the end of iteration: \")\n",
    "    print(new_candidate_list)\n",
    "    new_candidate_list = eliminate(new_candidate_list)\n",
    "    print(\"Item list after elimination: \")\n",
    "    print(new_candidate_list)\n",
    "    candidate_list = set()\n",
    "    for key_list in new_candidate_list.keys():\n",
    "        for item in key_list:\n",
    "            candidate_list.add(item)\n",
    "    if len(new_candidate_list) == 0:\n",
    "        print(\"All items eliminated. BREAK.\")\n",
    "        new_candidate_list = prev_candidate_list.copy()\n",
    "        break\n",
    "    count = count+1\n",
    "    print(\"-------------------------------------------------------------------------------\")\n",
    "\n",
    "print(\"-------------------- FREQUENT ITEM SET --------------------\")\n",
    "print(new_candidate_list)"
   ]
  },
  {
   "cell_type": "code",
   "execution_count": null,
   "metadata": {},
   "outputs": [],
   "source": []
  }
 ],
 "metadata": {
  "kernelspec": {
   "display_name": "Python 3",
   "language": "python",
   "name": "python3"
  },
  "language_info": {
   "codemirror_mode": {
    "name": "ipython",
    "version": 3
   },
   "file_extension": ".py",
   "mimetype": "text/x-python",
   "name": "python",
   "nbconvert_exporter": "python",
   "pygments_lexer": "ipython3",
   "version": "3.7.1"
  }
 },
 "nbformat": 4,
 "nbformat_minor": 2
}
