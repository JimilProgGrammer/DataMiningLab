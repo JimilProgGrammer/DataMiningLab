{
 "cells": [
  {
   "cell_type": "code",
   "execution_count": 161,
   "metadata": {},
   "outputs": [],
   "source": [
    "# Imports section\n",
    "import pandas as pd\n",
    "import numpy as np\n",
    "import math\n",
    "import operator"
   ]
  },
  {
   "cell_type": "code",
   "execution_count": 162,
   "metadata": {},
   "outputs": [
    {
     "name": "stdout",
     "output_type": "stream",
     "text": [
      "     outlook  temp humidity  windy play\n",
      "0      sunny   hot     high  False   no\n",
      "1      sunny   hot     high   True   no\n",
      "2   overcast   hot     high  False  yes\n",
      "3      rainy  mild     high  False  yes\n",
      "4      rainy  cool   normal  False  yes\n",
      "5      rainy  cool   normal   True   no\n",
      "6   overcast  cool   normal   True  yes\n",
      "7      sunny  mild     high  False   no\n",
      "8      sunny  cool   normal  False  yes\n",
      "9      rainy  mild   normal  False  yes\n",
      "10     sunny  mild   normal   True  yes\n",
      "11  overcast  mild     high   True  yes\n",
      "12  overcast   hot   normal  False  yes\n",
      "13     rainy  mild     high   True   no\n"
     ]
    }
   ],
   "source": [
    "# Load data\n",
    "df = pd.read_csv('tennis.csv')\n",
    "print(df)"
   ]
  },
  {
   "cell_type": "code",
   "execution_count": 163,
   "metadata": {},
   "outputs": [
    {
     "name": "stdout",
     "output_type": "stream",
     "text": [
      "9,5\n"
     ]
    }
   ],
   "source": [
    "# p: Class yes; n: Class no\n",
    "p = len(df[df.play == \"yes\"]['play'])\n",
    "n = len(df[df.play == \"no\"]['play'])\n",
    "print(str(p) + \",\" + str(n))"
   ]
  },
  {
   "cell_type": "code",
   "execution_count": 164,
   "metadata": {},
   "outputs": [],
   "source": [
    "# Function to get entropy for each column in every iteration\n",
    "def get_entropy_for_attributes(drop_columns = []):\n",
    "    entropies = {}\n",
    "    for column in df.columns:\n",
    "        if column in drop_columns:\n",
    "            continue\n",
    "        attr_value = set(df[column])\n",
    "        entropy = 0\n",
    "        for value in attr_value:\n",
    "            x = len(df[df[column] == value][column])\n",
    "            x_p = len(df[df[column] == value][[column,\"play\"]][df.play == \"yes\"]['play'])\n",
    "            x_n = len(df[df[column] == value][[column,\"play\"]][df.play == \"no\"]['play'])\n",
    "            x_ig = 0\n",
    "            if x_n == 0 or x_p == 0:\n",
    "                x_ig = 0\n",
    "            else:\n",
    "                x_ig = (-1/x) * (x_p * math.log((x_p/x),2) + (x_n * math.log((x_n/x),2)))\n",
    "            entropy = entropy + ((x/(p+n))*x_ig)\n",
    "        entropies[column] = entropy\n",
    "    return entropies"
   ]
  },
  {
   "cell_type": "code",
   "execution_count": 165,
   "metadata": {},
   "outputs": [],
   "source": [
    "# Function to get information gain for each column in every iteration\n",
    "def get_information_gain_for_attributes(ig_dataset, entropies = {}, drop_columns = []):\n",
    "    ig = {}\n",
    "    for column in df.columns:\n",
    "        if column in drop_columns:\n",
    "            continue\n",
    "        ig[column] = ig_dataset - entropies[column]\n",
    "    return ig"
   ]
  },
  {
   "cell_type": "code",
   "execution_count": 169,
   "metadata": {},
   "outputs": [
    {
     "name": "stdout",
     "output_type": "stream",
     "text": [
      "Information Gain(P,N): 0.9402859586706309\n",
      "Entropies: {'outlook': 0.6935361388961919, 'temp': 0.9110633930116763, 'humidity': 0.7884504573082896, 'windy': 0.8921589282623617}\n",
      "Information Gain (Attributes): {'outlook': 0.246749819774439, 'temp': 0.029222565658954647, 'humidity': 0.15183550136234136, 'windy': 0.04812703040826927}\n",
      "Attribute Selected: outlook\n",
      "------------------------------------------------------------------------------------------------------------------\n"
     ]
    },
    {
     "name": "stderr",
     "output_type": "stream",
     "text": [
      "/home/students/anaconda3/lib/python3.7/site-packages/ipykernel_launcher.py:11: UserWarning: Boolean Series key will be reindexed to match DataFrame index.\n",
      "  # This is added back by InteractiveShellApp.init_path()\n",
      "/home/students/anaconda3/lib/python3.7/site-packages/ipykernel_launcher.py:12: UserWarning: Boolean Series key will be reindexed to match DataFrame index.\n",
      "  if sys.path[0] == '':\n"
     ]
    }
   ],
   "source": [
    "while True:\n",
    "    drop_attributes = [\"play\"]\n",
    "    # Calculate Information Gain for dataset\n",
    "    ig = (-1/(p+n))*((p*math.log(p/(p+n),2))+(n*math.log(n/(p+n),2)))\n",
    "    print(\"Information Gain(P,N): \" + str(ig))\n",
    "    \n",
    "    # Calculate entropy for unselected attributes\n",
    "    entropies = get_entropy_for_attributes(drop_attributes)\n",
    "    print(\"Entropies: \" + str(entropies))\n",
    "\n",
    "    # Calculate information gain for unselected attributes\n",
    "    ig_attributes = get_information_gain_for_attributes(ig_dataset=ig, \n",
    "                                                        entropies=entropies, \n",
    "                                                        drop_columns=drop_attributes)\n",
    "    print(\"Information Gain (Attributes): \" + str(ig_attributes))\n",
    "    \n",
    "    # Select attribute with max information gain\n",
    "    selected_attribute = max(ig_attributes.items(), key=operator.itemgetter(1))[0]\n",
    "    print(\"Attribute Selected: \" + str(selected_attribute))\n",
    "    drop_attributes.append(selected_attribute)\n",
    "    \n",
    "    print(\"------------------------------------------------------------------------------------------------------------------\")\n",
    "    break"
   ]
  },
  {
   "cell_type": "code",
   "execution_count": null,
   "metadata": {},
   "outputs": [],
   "source": []
  }
 ],
 "metadata": {
  "kernelspec": {
   "display_name": "Python 3",
   "language": "python",
   "name": "python3"
  },
  "language_info": {
   "codemirror_mode": {
    "name": "ipython",
    "version": 3
   },
   "file_extension": ".py",
   "mimetype": "text/x-python",
   "name": "python",
   "nbconvert_exporter": "python",
   "pygments_lexer": "ipython3",
   "version": "3.7.1"
  }
 },
 "nbformat": 4,
 "nbformat_minor": 2
}
