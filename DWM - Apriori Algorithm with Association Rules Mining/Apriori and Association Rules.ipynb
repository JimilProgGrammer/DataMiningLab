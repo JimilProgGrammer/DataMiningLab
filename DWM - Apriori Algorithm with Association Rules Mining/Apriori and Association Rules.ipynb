{
 "cells": [
  {
   "cell_type": "code",
   "execution_count": 53,
   "metadata": {},
   "outputs": [],
   "source": [
    "# Imports section\n",
    "from itertools import combinations"
   ]
  },
  {
   "cell_type": "code",
   "execution_count": 54,
   "metadata": {},
   "outputs": [
    {
     "name": "stdout",
     "output_type": "stream",
     "text": [
      "Enter the number of transactions: \n",
      "5\n",
      "Enter minimum support value: \n",
      "3\n",
      "Enter minimum confidence value between 0 to 1: \n",
      "0.8\n"
     ]
    }
   ],
   "source": [
    "# Take Parameters Input Section\n",
    "print(\"Enter the number of transactions: \")\n",
    "n = int(input())\n",
    "transactions = []\n",
    "print(\"Enter minimum support value: \")\n",
    "min_support = int(input())\n",
    "print(\"Enter minimum confidence value between 0 to 1: \")\n",
    "min_confidence = float(input())"
   ]
  },
  {
   "cell_type": "code",
   "execution_count": 55,
   "metadata": {},
   "outputs": [
    {
     "name": "stdout",
     "output_type": "stream",
     "text": [
      "Enter items for transaction: 1\n",
      "A B C\n",
      "Enter items for transaction: 2\n",
      "B D E\n",
      "Enter items for transaction: 3\n",
      "B A C\n",
      "Enter items for transaction: 4\n",
      "A C B\n",
      "Enter items for transaction: 5\n",
      "A C D B\n"
     ]
    }
   ],
   "source": [
    "# Take Transaction set as input\n",
    "i = 0\n",
    "while i < n:\n",
    "    print(\"Enter items for transaction: \" + str(i+1))\n",
    "    items = input()\n",
    "    transactions.append(items.split(\" \"))\n",
    "    i = i+1\n",
    "i = 0"
   ]
  },
  {
   "cell_type": "code",
   "execution_count": 56,
   "metadata": {},
   "outputs": [
    {
     "name": "stdout",
     "output_type": "stream",
     "text": [
      "Candidate List: \n",
      "{'A': 4, 'B': 5, 'C': 4, 'D': 2, 'E': 1}\n"
     ]
    }
   ],
   "source": [
    "# Generate initial candidate list\n",
    "candidate_list = {}\n",
    "for items_list in transactions:\n",
    "    i = 0\n",
    "    for item in items_list:\n",
    "        if item in candidate_list.keys():\n",
    "            items_list_sub = items_list[0:i]\n",
    "            if item not in items_list_sub:\n",
    "                candidate_list[item] = candidate_list[item] + 1\n",
    "        else:\n",
    "            candidate_list[item] = 1\n",
    "        i = i+1\n",
    "\n",
    "print(\"Candidate List: \")\n",
    "print(candidate_list)"
   ]
  },
  {
   "cell_type": "code",
   "execution_count": 57,
   "metadata": {},
   "outputs": [
    {
     "name": "stdout",
     "output_type": "stream",
     "text": [
      "Candidate List After Elimination: \n",
      "{'A': 4, 'B': 5, 'C': 4}\n"
     ]
    }
   ],
   "source": [
    "# Eliminate from candidate list where support count < minimum support\n",
    "candidate_list = {key:value for key,value in candidate_list.items() if value >= min_support}\n",
    "\n",
    "print(\"Candidate List After Elimination: \")\n",
    "print(candidate_list)"
   ]
  },
  {
   "cell_type": "code",
   "execution_count": 58,
   "metadata": {},
   "outputs": [
    {
     "name": "stdout",
     "output_type": "stream",
     "text": [
      "Item list at the end of iteration: \n",
      "{('A', 'B'): 4, ('A', 'C'): 4, ('B', 'C'): 4}\n",
      "Item list after elimination: \n",
      "{('A', 'B'): 4, ('A', 'C'): 4, ('B', 'C'): 4}\n",
      "-------------------------------------------------------------------------------\n",
      "Item list at the end of iteration: \n",
      "{('C', 'A', 'B'): 4}\n",
      "Item list after elimination: \n",
      "{('C', 'A', 'B'): 4}\n",
      "-------------------------------------------------------------------------------\n",
      "Item list at the end of iteration: \n",
      "{}\n",
      "Item list after elimination: \n",
      "{}\n",
      "All items eliminated. BREAK.\n",
      "-------------------- FREQUENT ITEM SET --------------------\n",
      "{('C', 'A', 'B'): 4}\n"
     ]
    }
   ],
   "source": [
    "\"\"\"\n",
    "Utility function that takes in a list with items and support\n",
    "and returns list containing items where support >= minimum support\n",
    "\n",
    ":param param_candidate_list:\n",
    ":return:\n",
    "\"\"\"\n",
    "def eliminate(param_candidate_list):\n",
    "    param_candidate_list = {key:value for key,value in param_candidate_list.items() if value >= min_support}\n",
    "    return param_candidate_list\n",
    "\n",
    "# Start Apriori\n",
    "flag = True\n",
    "new_candidate_list = {}\n",
    "prev_candidate_list = {}\n",
    "count = 2\n",
    "# archive contains the support values of all iterations. Useful for calculating association rules confidence.\n",
    "archive = candidate_list.copy()\n",
    "\n",
    "while True:\n",
    "    new_keys = []\n",
    "    prev_candidate_list = new_candidate_list.copy()\n",
    "    new_candidate_list = {}\n",
    "    new_keys = tuple(list(combinations(candidate_list, count)))\n",
    "    \n",
    "    # Form new keys and update support\n",
    "    for new_key in new_keys:\n",
    "        for items_list in transactions:\n",
    "            if set(new_key).issubset(set(items_list)) and new_key in new_candidate_list.keys() and new_key in archive.keys():\n",
    "                new_candidate_list[new_key] = new_candidate_list[new_key] + 1\n",
    "                archive[new_key] = archive[new_key] + 1\n",
    "            elif set(new_key).issubset(set(items_list)):\n",
    "                new_candidate_list[new_key] = 1\n",
    "                archive[new_key] = 1\n",
    "    \n",
    "    # Print current candidate list\n",
    "    print(\"Item list at the end of iteration: \")\n",
    "    print(new_candidate_list)\n",
    "    new_candidate_list = eliminate(new_candidate_list)\n",
    "    # Eliminate items having support less than minimum\n",
    "    print(\"Item list after elimination: \")\n",
    "    print(new_candidate_list)\n",
    "    candidate_list = set()\n",
    "    for key_list in new_candidate_list.keys():\n",
    "        for item in key_list:\n",
    "            candidate_list.add(item)\n",
    "    \n",
    "    # BREAK CONDITION: Break if all items eliminated from candidate list\n",
    "    if len(new_candidate_list) == 0:\n",
    "        print(\"All items eliminated. BREAK.\")\n",
    "        new_candidate_list = prev_candidate_list.copy()\n",
    "        break\n",
    "    \n",
    "    # Continue to next iteration\n",
    "    count = count+1\n",
    "    print(\"-------------------------------------------------------------------------------\")\n",
    "\n",
    "# Print frequent item set\n",
    "print(\"-------------------- FREQUENT ITEM SET --------------------\")\n",
    "print(new_candidate_list)"
   ]
  },
  {
   "cell_type": "code",
   "execution_count": 60,
   "metadata": {},
   "outputs": [
    {
     "name": "stdout",
     "output_type": "stream",
     "text": [
      "-------------------- ASSOCIATION RULES FOR: ('C', 'A', 'B') --------------------\n",
      "('C', ('A', 'B')); CONFIDENCE: 1.0; STRONG\n",
      "('A', ('C', 'B')); CONFIDENCE: 1.0; STRONG\n",
      "('B', ('C', 'A')); CONFIDENCE: 0.8; STRONG\n",
      "(('A', 'B'), 'C'); CONFIDENCE: 1.0; STRONG\n",
      "(('C', 'B'), 'A'); CONFIDENCE: 1.0; STRONG\n",
      "(('C', 'A'), 'B'); CONFIDENCE: 1.0; STRONG\n",
      "\n"
     ]
    }
   ],
   "source": [
    "# Start Mining Association Rules\n",
    "for freq_item_set in new_candidate_list.keys():\n",
    "    rules = {}\n",
    "    print(\"-------------------- ASSOCIATION RULES FOR: \" + str(freq_item_set) + \" --------------------\")\n",
    "    keys=[]\n",
    "    \n",
    "    # Form the rules here and calculate confidence for each.\n",
    "    for i in range(0,len(freq_item_set)):\n",
    "        key = [freq_item_set[i]]\n",
    "        key.append(tuple([x for j,x in enumerate(freq_item_set) if j != i]))\n",
    "        keys.append(key)\n",
    "        try:\n",
    "            confidence = round(archive[freq_item_set]/archive[key[0]],2)\n",
    "        except KeyError:\n",
    "            confidence = round(archive[freq_item_set]/archive[key[0][::-1]],2)\n",
    "        rules[tuple(key)] = confidence\n",
    "    \n",
    "    # For the same keys formed above, reverse and find confidence again.\n",
    "    for key in keys:\n",
    "        x = key[::-1]\n",
    "        try:\n",
    "            confidence = round(archive[freq_item_set]/archive[x[0]],2)\n",
    "        except KeyError:\n",
    "            confidence = round(archive[freq_item_set]/archive[x[0][::-1]],2)\n",
    "        rules[tuple(x)] = confidence\n",
    "    \n",
    "    # Print association rules, along with confidence and classification -> whether strong or weak.\n",
    "    for key in rules.keys():\n",
    "        if rules[key] >= min_confidence:\n",
    "            print(str(key) + \"; CONFIDENCE: \" + str(rules[key]) + \"; STRONG\")\n",
    "        else:\n",
    "            print(str(key) + \"; CONFIDENCE: \" + str(rules[key]) + \"; WEAK\")\n",
    "    \n",
    "    print(\"\")"
   ]
  },
  {
   "cell_type": "code",
   "execution_count": null,
   "metadata": {},
   "outputs": [],
   "source": []
  }
 ],
 "metadata": {
  "kernelspec": {
   "display_name": "Python 3",
   "language": "python",
   "name": "python3"
  },
  "language_info": {
   "codemirror_mode": {
    "name": "ipython",
    "version": 3
   },
   "file_extension": ".py",
   "mimetype": "text/x-python",
   "name": "python",
   "nbconvert_exporter": "python",
   "pygments_lexer": "ipython3",
   "version": "3.7.1"
  }
 },
 "nbformat": 4,
 "nbformat_minor": 2
}
